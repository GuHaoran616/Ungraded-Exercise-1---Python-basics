{
 "cells": [
  {
   "cell_type": "markdown",
   "metadata": {},
   "source": [
    "1. Ask user to enter a string and check that it is made up only alphabets:"
   ]
  },
  {
   "cell_type": "code",
   "execution_count": null,
   "metadata": {},
   "outputs": [],
   "source": [
    "# Ask the user to enter a string\n",
    "user_input = input(\"Please enter a string: \")\n",
    "\n",
    "# Check if the string is made up of only alphabets\n",
    "if user_input.isalpha():\n",
    "    print(\"The string contains only alphabets.\")\n",
    "else:\n",
    "    print(\"The string contains characters other than alphabets.\")\n"
   ]
  },
  {
   "cell_type": "markdown",
   "metadata": {},
   "source": [
    "2. Now, make sure that the string is made up of both alphabets and numbers:\n",
    "\n",
    "TRY using isalnum() function and then entering only alhpabets in the string and see what happens."
   ]
  },
  {
   "cell_type": "code",
   "execution_count": null,
   "metadata": {},
   "outputs": [],
   "source": [
    "# Ask the user to enter a string\n",
    "user_input = input(\"Please enter a string: \")\n",
    "\n",
    "# Check if the string is made up of both alphabets and numbers\n",
    "if user_input.isalnum() and not user_input.isalpha() and not user_input.isdigit():\n",
    "    print(\"The string contains both alphabets and numbers.\")\n",
    "else:\n",
    "    print(\"The string does not contain both alphabets and numbers.\")\n"
   ]
  },
  {
   "cell_type": "markdown",
   "metadata": {},
   "source": [
    "3. Now, make sure that the string is made up of both alphabets and at least one number:\n"
   ]
  },
  {
   "cell_type": "code",
   "execution_count": null,
   "metadata": {},
   "outputs": [],
   "source": [
    "# Ask the user to enter a string\n",
    "user_input = input(\"Please enter a string: \")\n",
    "\n",
    "# Check if the string contains both alphabets and at least one number\n",
    "if any(char.isalpha() for char in user_input) and any(char.isdigit() for char in user_input):\n",
    "    print(\"The string contains both alphabets and at least one number.\")\n",
    "else:\n",
    "    print(\"The string does not contain both alphabets and at least one number.\")\n"
   ]
  },
  {
   "cell_type": "markdown",
   "metadata": {},
   "source": [
    "4. Now, make sure that the string is made up of both alphabets, at least one number, and at least one special character:"
   ]
  },
  {
   "cell_type": "code",
   "execution_count": null,
   "metadata": {},
   "outputs": [],
   "source": [
    "# Ask the user to enter a string\n",
    "user_input = input(\"Please enter a string: \")\n",
    "\n",
    "# Define a set of special characters\n",
    "special_characters = \"!@#$%^&*()-_+=<>?/{}[]|\\\\,.:;\"\n",
    "\n",
    "# Check if the string contains alphabets, at least one number, and at least one special character\n",
    "if (any(char.isalpha() for char in user_input) and \n",
    "    any(char.isdigit() for char in user_input) and \n",
    "    any(char in special_characters for char in user_input)):\n",
    "    print(\"The string contains alphabets, at least one number, and at least one special character.\")\n",
    "else:\n",
    "    print(\"The string does not meet the criteria.\")\n"
   ]
  },
  {
   "cell_type": "markdown",
   "metadata": {},
   "source": [
    "5. Now, modify the above code so that if the user enters an invalid string, the program should ask the user to enter another string again, and keep asking until a valid string has been entered."
   ]
  },
  {
   "cell_type": "code",
   "execution_count": null,
   "metadata": {},
   "outputs": [],
   "source": [
    "# Define a set of special characters\n",
    "special_characters = \"!@#$%^&*()-_+=<>?/{}[]|\\\\,.:;\"\n",
    "\n",
    "# Function to check if the string is valid\n",
    "def is_valid_string(user_input):\n",
    "    return (any(char.isalpha() for char in user_input) and \n",
    "            any(char.isdigit() for char in user_input) and \n",
    "            any(char in special_characters for char in user_input))\n",
    "\n",
    "# Keep asking the user to enter a valid string\n",
    "while True:\n",
    "    user_input = input(\"Please enter a string containing alphabets, at least one number, and at least one special character: \")\n",
    "    \n",
    "    # If the string is valid, break the loop\n",
    "    if is_valid_string(user_input):\n",
    "        print(\"Valid string entered!\")\n",
    "        break\n",
    "    else:\n",
    "        print(\"Invalid string. Please try again.\")\n"
   ]
  }
 ],
 "metadata": {
  "kernelspec": {
   "display_name": "Python 3",
   "language": "python",
   "name": "python3"
  },
  "language_info": {
   "codemirror_mode": {
    "name": "ipython",
    "version": 3
   },
   "file_extension": ".py",
   "mimetype": "text/x-python",
   "name": "python",
   "nbconvert_exporter": "python",
   "pygments_lexer": "ipython3",
   "version": "3.11.5"
  }
 },
 "nbformat": 4,
 "nbformat_minor": 2
}
